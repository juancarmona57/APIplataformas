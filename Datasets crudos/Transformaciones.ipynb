{
 "cells": [
  {
   "attachments": {},
   "cell_type": "markdown",
   "metadata": {},
   "source": [
    "Como primer paso importamos las librerias, en este caso pandas.\n",
    "Cargamos los archivos y por ultimo creamos el ID"
   ]
  },
  {
   "cell_type": "code",
   "execution_count": 1,
   "metadata": {},
   "outputs": [],
   "source": [
    "import pandas as pd\n",
    "netflix = pd.read_csv(\"netflix_titles-score.csv\")#Cargamos el csv\n",
    "netflix.insert(0, 'ID', 'n' + netflix['show_id'])#Insertamos una nueva columna en la posicion 0 con criterio del ID\n",
    "netflix = netflix.set_index('ID')\n"
   ]
  },
  {
   "cell_type": "code",
   "execution_count": 2,
   "metadata": {},
   "outputs": [],
   "source": [
    "\n",
    "amazon = pd.read_csv(\"amazon_prime_titles-score.csv\")#Cargamos el csv\n",
    "amazon.insert(0,'ID', 'a' + amazon['show_id'])#Insertamos la columna del ID\n",
    "amazon = amazon.set_index('ID')\n"
   ]
  },
  {
   "cell_type": "code",
   "execution_count": 3,
   "metadata": {},
   "outputs": [],
   "source": [
    "hulu = pd.read_csv('hulu_titles-score (2).csv')\n",
    "hulu.insert(0, 'ID', 'h' + hulu['show_id'])\n",
    "hulu = hulu.set_index('ID')"
   ]
  },
  {
   "cell_type": "code",
   "execution_count": 4,
   "metadata": {},
   "outputs": [],
   "source": [
    "disney = pd.read_csv('disney_plus_titles-score.csv')\n",
    "disney.insert(0, 'ID', 'd' + disney['show_id'])\n",
    "disney = disney.set_index('ID')"
   ]
  },
  {
   "attachments": {},
   "cell_type": "markdown",
   "metadata": {},
   "source": [
    "Luego verificamos que Data nos estan proporcionando para entender que proceso se debe serguir."
   ]
  },
  {
   "cell_type": "code",
   "execution_count": 5,
   "metadata": {},
   "outputs": [
    {
     "data": {
      "text/html": [
       "<div>\n",
       "<style scoped>\n",
       "    .dataframe tbody tr th:only-of-type {\n",
       "        vertical-align: middle;\n",
       "    }\n",
       "\n",
       "    .dataframe tbody tr th {\n",
       "        vertical-align: top;\n",
       "    }\n",
       "\n",
       "    .dataframe thead th {\n",
       "        text-align: right;\n",
       "    }\n",
       "</style>\n",
       "<table border=\"1\" class=\"dataframe\">\n",
       "  <thead>\n",
       "    <tr style=\"text-align: right;\">\n",
       "      <th></th>\n",
       "      <th>show_id</th>\n",
       "      <th>type</th>\n",
       "      <th>title</th>\n",
       "      <th>director</th>\n",
       "      <th>cast</th>\n",
       "      <th>country</th>\n",
       "      <th>date_added</th>\n",
       "      <th>release_year</th>\n",
       "      <th>rating</th>\n",
       "      <th>duration</th>\n",
       "      <th>listed_in</th>\n",
       "      <th>description</th>\n",
       "      <th>score</th>\n",
       "    </tr>\n",
       "    <tr>\n",
       "      <th>ID</th>\n",
       "      <th></th>\n",
       "      <th></th>\n",
       "      <th></th>\n",
       "      <th></th>\n",
       "      <th></th>\n",
       "      <th></th>\n",
       "      <th></th>\n",
       "      <th></th>\n",
       "      <th></th>\n",
       "      <th></th>\n",
       "      <th></th>\n",
       "      <th></th>\n",
       "      <th></th>\n",
       "    </tr>\n",
       "  </thead>\n",
       "  <tbody>\n",
       "    <tr>\n",
       "      <th>hs1</th>\n",
       "      <td>s1</td>\n",
       "      <td>Movie</td>\n",
       "      <td>Ricky Velez: Here's Everything</td>\n",
       "      <td>NaN</td>\n",
       "      <td>NaN</td>\n",
       "      <td>NaN</td>\n",
       "      <td>October 24, 2021</td>\n",
       "      <td>2021</td>\n",
       "      <td>TV-MA</td>\n",
       "      <td>NaN</td>\n",
       "      <td>Comedy, Stand Up</td>\n",
       "      <td>​Comedian Ricky Velez bares it all with his ho...</td>\n",
       "      <td>48</td>\n",
       "    </tr>\n",
       "    <tr>\n",
       "      <th>hs2</th>\n",
       "      <td>s2</td>\n",
       "      <td>Movie</td>\n",
       "      <td>Silent Night</td>\n",
       "      <td>NaN</td>\n",
       "      <td>NaN</td>\n",
       "      <td>NaN</td>\n",
       "      <td>October 23, 2021</td>\n",
       "      <td>2020</td>\n",
       "      <td>NaN</td>\n",
       "      <td>94 min</td>\n",
       "      <td>Crime, Drama, Thriller</td>\n",
       "      <td>Mark, a low end South London hitman recently r...</td>\n",
       "      <td>8</td>\n",
       "    </tr>\n",
       "    <tr>\n",
       "      <th>hs3</th>\n",
       "      <td>s3</td>\n",
       "      <td>Movie</td>\n",
       "      <td>The Marksman</td>\n",
       "      <td>NaN</td>\n",
       "      <td>NaN</td>\n",
       "      <td>NaN</td>\n",
       "      <td>October 23, 2021</td>\n",
       "      <td>2021</td>\n",
       "      <td>PG-13</td>\n",
       "      <td>108 min</td>\n",
       "      <td>Action, Thriller</td>\n",
       "      <td>A hardened Arizona rancher tries to protect an...</td>\n",
       "      <td>8</td>\n",
       "    </tr>\n",
       "  </tbody>\n",
       "</table>\n",
       "</div>"
      ],
      "text/plain": [
       "    show_id   type                           title director  cast country  \\\n",
       "ID                                                                          \n",
       "hs1      s1  Movie  Ricky Velez: Here's Everything      NaN   NaN     NaN   \n",
       "hs2      s2  Movie                    Silent Night      NaN   NaN     NaN   \n",
       "hs3      s3  Movie                    The Marksman      NaN   NaN     NaN   \n",
       "\n",
       "           date_added  release_year rating duration               listed_in  \\\n",
       "ID                                                                            \n",
       "hs1  October 24, 2021          2021  TV-MA      NaN        Comedy, Stand Up   \n",
       "hs2  October 23, 2021          2020    NaN   94 min  Crime, Drama, Thriller   \n",
       "hs3  October 23, 2021          2021  PG-13  108 min        Action, Thriller   \n",
       "\n",
       "                                           description  score  \n",
       "ID                                                             \n",
       "hs1  ​Comedian Ricky Velez bares it all with his ho...     48  \n",
       "hs2  Mark, a low end South London hitman recently r...      8  \n",
       "hs3  A hardened Arizona rancher tries to protect an...      8  "
      ]
     },
     "execution_count": 5,
     "metadata": {},
     "output_type": "execute_result"
    }
   ],
   "source": [
    "hulu.head(3)"
   ]
  },
  {
   "cell_type": "code",
   "execution_count": 24,
   "metadata": {},
   "outputs": [
    {
     "name": "stdout",
     "output_type": "stream",
     "text": [
      "<class 'pandas.core.frame.DataFrame'>\n",
      "Index: 8807 entries, ns1 to ns8807\n",
      "Data columns (total 14 columns):\n",
      " #   Column         Non-Null Count  Dtype \n",
      "---  ------         --------------  ----- \n",
      " 0   show_id        8807 non-null   object\n",
      " 1   type           8807 non-null   object\n",
      " 2   title          8807 non-null   object\n",
      " 3   director       6173 non-null   object\n",
      " 4   cast           7982 non-null   object\n",
      " 5   country        7976 non-null   object\n",
      " 6   date_added     8709 non-null   object\n",
      " 7   release_year   8807 non-null   int64 \n",
      " 8   rating         8807 non-null   object\n",
      " 9   listed_in      8807 non-null   object\n",
      " 10  description    8807 non-null   object\n",
      " 11  score          8807 non-null   int64 \n",
      " 12  duration_int   8807 non-null   int32 \n",
      " 13  duration_type  8807 non-null   object\n",
      "dtypes: int32(1), int64(2), object(11)\n",
      "memory usage: 997.7+ KB\n"
     ]
    }
   ],
   "source": [
    "netflix.head(3)\n",
    "netflix.info()"
   ]
  },
  {
   "cell_type": "code",
   "execution_count": 7,
   "metadata": {},
   "outputs": [
    {
     "name": "stdout",
     "output_type": "stream",
     "text": [
      "<class 'pandas.core.frame.DataFrame'>\n",
      "Index: 9668 entries, as1 to as9668\n",
      "Data columns (total 13 columns):\n",
      " #   Column        Non-Null Count  Dtype \n",
      "---  ------        --------------  ----- \n",
      " 0   show_id       9668 non-null   object\n",
      " 1   type          9668 non-null   object\n",
      " 2   title         9668 non-null   object\n",
      " 3   director      7586 non-null   object\n",
      " 4   cast          8435 non-null   object\n",
      " 5   country       672 non-null    object\n",
      " 6   date_added    155 non-null    object\n",
      " 7   release_year  9668 non-null   int64 \n",
      " 8   rating        9331 non-null   object\n",
      " 9   duration      9668 non-null   object\n",
      " 10  listed_in     9668 non-null   object\n",
      " 11  description   9668 non-null   object\n",
      " 12  score         9668 non-null   int64 \n",
      "dtypes: int64(2), object(11)\n",
      "memory usage: 1.0+ MB\n"
     ]
    }
   ],
   "source": [
    "amazon.info()"
   ]
  },
  {
   "cell_type": "code",
   "execution_count": 8,
   "metadata": {},
   "outputs": [
    {
     "name": "stdout",
     "output_type": "stream",
     "text": [
      "<class 'pandas.core.frame.DataFrame'>\n",
      "Index: 3073 entries, hs1 to hs3073\n",
      "Data columns (total 13 columns):\n",
      " #   Column        Non-Null Count  Dtype  \n",
      "---  ------        --------------  -----  \n",
      " 0   show_id       3073 non-null   object \n",
      " 1   type          3073 non-null   object \n",
      " 2   title         3073 non-null   object \n",
      " 3   director      3 non-null      object \n",
      " 4   cast          0 non-null      float64\n",
      " 5   country       1620 non-null   object \n",
      " 6   date_added    3045 non-null   object \n",
      " 7   release_year  3073 non-null   int64  \n",
      " 8   rating        2553 non-null   object \n",
      " 9   duration      2594 non-null   object \n",
      " 10  listed_in     3073 non-null   object \n",
      " 11  description   3069 non-null   object \n",
      " 12  score         3073 non-null   int64  \n",
      "dtypes: float64(1), int64(2), object(10)\n",
      "memory usage: 336.1+ KB\n"
     ]
    }
   ],
   "source": [
    "hulu.info()"
   ]
  },
  {
   "cell_type": "code",
   "execution_count": 9,
   "metadata": {},
   "outputs": [
    {
     "name": "stdout",
     "output_type": "stream",
     "text": [
      "<class 'pandas.core.frame.DataFrame'>\n",
      "Index: 1450 entries, ds1 to ds1450\n",
      "Data columns (total 13 columns):\n",
      " #   Column        Non-Null Count  Dtype \n",
      "---  ------        --------------  ----- \n",
      " 0   show_id       1450 non-null   object\n",
      " 1   type          1450 non-null   object\n",
      " 2   title         1450 non-null   object\n",
      " 3   director      977 non-null    object\n",
      " 4   cast          1260 non-null   object\n",
      " 5   country       1231 non-null   object\n",
      " 6   date_added    1447 non-null   object\n",
      " 7   release_year  1450 non-null   int64 \n",
      " 8   rating        1447 non-null   object\n",
      " 9   duration      1450 non-null   object\n",
      " 10  listed_in     1450 non-null   object\n",
      " 11  description   1450 non-null   object\n",
      " 12  score         1450 non-null   int64 \n",
      "dtypes: int64(2), object(11)\n",
      "memory usage: 158.6+ KB\n"
     ]
    }
   ],
   "source": [
    "disney.info()"
   ]
  },
  {
   "attachments": {},
   "cell_type": "markdown",
   "metadata": {},
   "source": [
    "Una vez visto esto, vemos que tenemos nulos en la columna 'rating' y los remplazamos con 'G'"
   ]
  },
  {
   "cell_type": "code",
   "execution_count": 5,
   "metadata": {},
   "outputs": [],
   "source": [
    "netflix['rating'].fillna('G', inplace=True)#Replazamos los null con 'G'\n",
    "amazon['rating'].fillna('G', inplace=True)\n",
    "hulu['rating'].fillna('G', inplace=True)\n",
    "disney['rating'].fillna('G', inplace=True)"
   ]
  },
  {
   "attachments": {},
   "cell_type": "markdown",
   "metadata": {},
   "source": [
    "Despues cambiamos el formato de fecha a AAAA-mm-dd"
   ]
  },
  {
   "attachments": {},
   "cell_type": "markdown",
   "metadata": {},
   "source": [
    "En este caso lo que se hizo fue primero convertirlo en formato '%B %d, %Y' para que sea mas manipulable, y luego convertirlo en formato AAAA-mm-dd"
   ]
  },
  {
   "cell_type": "code",
   "execution_count": 12,
   "metadata": {},
   "outputs": [],
   "source": [
    "netflix['date_added'] = pd.to_datetime(netflix['date_added'], format='%B %d, %Y', errors='coerce') #Primero convertimos la fecha en formato %B %d, %Y\n",
    "netflix['date_added'] = netflix['date_added'].dt.strftime('%Y-%m-%d')#convertimos la fecha como AAAA-mm-dd\n",
    "\n",
    "amazon['date_added'] = pd.to_datetime(amazon['date_added'], format='%B %d, %Y', errors='coerce') \n",
    "amazon['date_added'] = amazon['date_added'].dt.strftime('%Y-%m-%d')\n",
    "\n",
    "hulu['date_added'] = pd.to_datetime(hulu['date_added'], format='%B %d, %Y', errors='coerce') \n",
    "hulu['date_added'] = hulu['date_added'].dt.strftime('%Y-%m-%d')\n",
    "\n",
    "disney['date_added'] = pd.to_datetime(disney['date_added'], format='%B %d, %Y', errors='coerce') \n",
    "disney['date_added'] = disney['date_added'].dt.strftime('%Y-%m-%d')"
   ]
  },
  {
   "attachments": {},
   "cell_type": "markdown",
   "metadata": {},
   "source": [
    "En esta parte tenemos que convertir todos los textos en minusculas, lo que se hizo fue crear una funcion lambda la cual se itero para encontrar cada texto y convertirlo a minuscula"
   ]
  },
  {
   "cell_type": "code",
   "execution_count": 13,
   "metadata": {},
   "outputs": [],
   "source": [
    "netflix = netflix.apply(lambda x: x.str.lower() if x.dtype == 'object' else x)#Creamos una funcion que todos los campos de texto los convierta en minuscula\n",
    "amazon = amazon.apply(lambda x: x.str.lower() if x.dtype == 'object' else x)\n",
    "hulu = hulu.apply(lambda x: x.str.lower() if x.dtype == 'object' else x)\n",
    "disney = disney.apply(lambda x: x.str.lower() if x.dtype == 'object' else x)\n"
   ]
  },
  {
   "attachments": {},
   "cell_type": "markdown",
   "metadata": {},
   "source": [
    "Apartir de la columna 'duration' creamos dos columnas expandiendo la primero, separando los numero con el tipo de duracion"
   ]
  },
  {
   "cell_type": "code",
   "execution_count": 16,
   "metadata": {},
   "outputs": [],
   "source": [
    "netflix[['duration_int','duration_type']] = netflix['duration'].str.split(' ', expand=True)\n",
    "netflix['duration_int'] = netflix['duration_int'].fillna(0).astype(int)\n",
    "netflix['duration_int'] = netflix['duration_int'].astype(int)\n",
    "netflix['duration_type'] = netflix['duration_type'].astype(str)\n",
    "netflix.drop(columns=['duration'], inplace=True)\n",
    "\n",
    "amazon[['duration_int','duration_type']] = amazon['duration'].str.split(' ', expand=True)\n",
    "amazon['duration_int'] = amazon['duration_int'].fillna(0).astype(int)\n",
    "amazon['duration_int'] = amazon['duration_int'].astype(int)\n",
    "amazon['duration_type'] = amazon['duration_type'].astype(str)\n",
    "amazon.drop(columns=['duration'], inplace=True)\n",
    "\n",
    "hulu[['duration_int','duration_type']] = hulu['duration'].str.split(' ', expand=True)\n",
    "hulu['duration_int'] = hulu['duration_int'].fillna(0).astype(int)\n",
    "hulu['duration_int'] = hulu['duration_int'].astype(int)\n",
    "hulu['duration_type'] = hulu['duration_type'].astype(str)\n",
    "hulu.drop(columns=['duration'], inplace=True)\n",
    "\n",
    "disney[['duration_int','duration_type']] = disney['duration'].str.split(' ', expand=True)\n",
    "disney['duration_int'] = disney['duration_int'].fillna(0).astype(int)\n",
    "disney['duration_int'] = disney['duration_int'].astype(int)\n",
    "disney['duration_type'] = disney['duration_type'].astype(str)\n",
    "disney.drop(columns=['duration'], inplace=True)"
   ]
  },
  {
   "cell_type": "code",
   "execution_count": 17,
   "metadata": {},
   "outputs": [
    {
     "name": "stdout",
     "output_type": "stream",
     "text": [
      "<class 'pandas.core.frame.DataFrame'>\n",
      "Index: 1450 entries, ds1 to ds1450\n",
      "Data columns (total 14 columns):\n",
      " #   Column         Non-Null Count  Dtype \n",
      "---  ------         --------------  ----- \n",
      " 0   show_id        1450 non-null   object\n",
      " 1   type           1450 non-null   object\n",
      " 2   title          1450 non-null   object\n",
      " 3   director       977 non-null    object\n",
      " 4   cast           1260 non-null   object\n",
      " 5   country        1231 non-null   object\n",
      " 6   date_added     1447 non-null   object\n",
      " 7   release_year   1450 non-null   int64 \n",
      " 8   rating         1450 non-null   object\n",
      " 9   listed_in      1450 non-null   object\n",
      " 10  description    1450 non-null   object\n",
      " 11  score          1450 non-null   int64 \n",
      " 12  duration_int   1450 non-null   int32 \n",
      " 13  duration_type  1450 non-null   object\n",
      "dtypes: int32(1), int64(2), object(11)\n",
      "memory usage: 164.3+ KB\n"
     ]
    },
    {
     "data": {
      "text/html": [
       "<div>\n",
       "<style scoped>\n",
       "    .dataframe tbody tr th:only-of-type {\n",
       "        vertical-align: middle;\n",
       "    }\n",
       "\n",
       "    .dataframe tbody tr th {\n",
       "        vertical-align: top;\n",
       "    }\n",
       "\n",
       "    .dataframe thead th {\n",
       "        text-align: right;\n",
       "    }\n",
       "</style>\n",
       "<table border=\"1\" class=\"dataframe\">\n",
       "  <thead>\n",
       "    <tr style=\"text-align: right;\">\n",
       "      <th></th>\n",
       "      <th>show_id</th>\n",
       "      <th>type</th>\n",
       "      <th>title</th>\n",
       "      <th>director</th>\n",
       "      <th>cast</th>\n",
       "      <th>country</th>\n",
       "      <th>date_added</th>\n",
       "      <th>release_year</th>\n",
       "      <th>rating</th>\n",
       "      <th>listed_in</th>\n",
       "      <th>description</th>\n",
       "      <th>score</th>\n",
       "      <th>duration_int</th>\n",
       "      <th>duration_type</th>\n",
       "    </tr>\n",
       "    <tr>\n",
       "      <th>ID</th>\n",
       "      <th></th>\n",
       "      <th></th>\n",
       "      <th></th>\n",
       "      <th></th>\n",
       "      <th></th>\n",
       "      <th></th>\n",
       "      <th></th>\n",
       "      <th></th>\n",
       "      <th></th>\n",
       "      <th></th>\n",
       "      <th></th>\n",
       "      <th></th>\n",
       "      <th></th>\n",
       "      <th></th>\n",
       "    </tr>\n",
       "  </thead>\n",
       "  <tbody>\n",
       "    <tr>\n",
       "      <th>ds1</th>\n",
       "      <td>s1</td>\n",
       "      <td>movie</td>\n",
       "      <td>duck the halls: a mickey mouse christmas special</td>\n",
       "      <td>alonso ramirez ramos, dave wasson</td>\n",
       "      <td>chris diamantopoulos, tony anselmo, tress macn...</td>\n",
       "      <td>NaN</td>\n",
       "      <td>2021-11-26</td>\n",
       "      <td>2016</td>\n",
       "      <td>tv-g</td>\n",
       "      <td>animation, family</td>\n",
       "      <td>join mickey and the gang as they duck the halls!</td>\n",
       "      <td>100</td>\n",
       "      <td>23</td>\n",
       "      <td>min</td>\n",
       "    </tr>\n",
       "    <tr>\n",
       "      <th>ds2</th>\n",
       "      <td>s2</td>\n",
       "      <td>movie</td>\n",
       "      <td>ernest saves christmas</td>\n",
       "      <td>john cherry</td>\n",
       "      <td>jim varney, noelle parker, douglas seale</td>\n",
       "      <td>NaN</td>\n",
       "      <td>2021-11-26</td>\n",
       "      <td>1988</td>\n",
       "      <td>pg</td>\n",
       "      <td>comedy</td>\n",
       "      <td>santa claus passes his magic bag to a new st. ...</td>\n",
       "      <td>17</td>\n",
       "      <td>91</td>\n",
       "      <td>min</td>\n",
       "    </tr>\n",
       "    <tr>\n",
       "      <th>ds3</th>\n",
       "      <td>s3</td>\n",
       "      <td>movie</td>\n",
       "      <td>ice age: a mammoth christmas</td>\n",
       "      <td>karen disher</td>\n",
       "      <td>raymond albert romano, john leguizamo, denis l...</td>\n",
       "      <td>united states</td>\n",
       "      <td>2021-11-26</td>\n",
       "      <td>2011</td>\n",
       "      <td>tv-g</td>\n",
       "      <td>animation, comedy, family</td>\n",
       "      <td>sid the sloth is on santa's naughty list.</td>\n",
       "      <td>92</td>\n",
       "      <td>23</td>\n",
       "      <td>min</td>\n",
       "    </tr>\n",
       "    <tr>\n",
       "      <th>ds4</th>\n",
       "      <td>s4</td>\n",
       "      <td>movie</td>\n",
       "      <td>the queen family singalong</td>\n",
       "      <td>hamish hamilton</td>\n",
       "      <td>darren criss, adam lambert, derek hough, alexa...</td>\n",
       "      <td>NaN</td>\n",
       "      <td>2021-11-26</td>\n",
       "      <td>2021</td>\n",
       "      <td>tv-pg</td>\n",
       "      <td>musical</td>\n",
       "      <td>this is real life, not just fantasy!</td>\n",
       "      <td>35</td>\n",
       "      <td>41</td>\n",
       "      <td>min</td>\n",
       "    </tr>\n",
       "  </tbody>\n",
       "</table>\n",
       "</div>"
      ],
      "text/plain": [
       "    show_id   type                                             title  \\\n",
       "ID                                                                     \n",
       "ds1      s1  movie  duck the halls: a mickey mouse christmas special   \n",
       "ds2      s2  movie                            ernest saves christmas   \n",
       "ds3      s3  movie                      ice age: a mammoth christmas   \n",
       "ds4      s4  movie                        the queen family singalong   \n",
       "\n",
       "                              director  \\\n",
       "ID                                       \n",
       "ds1  alonso ramirez ramos, dave wasson   \n",
       "ds2                        john cherry   \n",
       "ds3                       karen disher   \n",
       "ds4                    hamish hamilton   \n",
       "\n",
       "                                                  cast        country  \\\n",
       "ID                                                                      \n",
       "ds1  chris diamantopoulos, tony anselmo, tress macn...            NaN   \n",
       "ds2           jim varney, noelle parker, douglas seale            NaN   \n",
       "ds3  raymond albert romano, john leguizamo, denis l...  united states   \n",
       "ds4  darren criss, adam lambert, derek hough, alexa...            NaN   \n",
       "\n",
       "     date_added  release_year rating                  listed_in  \\\n",
       "ID                                                                \n",
       "ds1  2021-11-26          2016   tv-g          animation, family   \n",
       "ds2  2021-11-26          1988     pg                     comedy   \n",
       "ds3  2021-11-26          2011   tv-g  animation, comedy, family   \n",
       "ds4  2021-11-26          2021  tv-pg                    musical   \n",
       "\n",
       "                                           description  score  duration_int  \\\n",
       "ID                                                                            \n",
       "ds1   join mickey and the gang as they duck the halls!    100            23   \n",
       "ds2  santa claus passes his magic bag to a new st. ...     17            91   \n",
       "ds3          sid the sloth is on santa's naughty list.     92            23   \n",
       "ds4               this is real life, not just fantasy!     35            41   \n",
       "\n",
       "    duration_type  \n",
       "ID                 \n",
       "ds1           min  \n",
       "ds2           min  \n",
       "ds3           min  \n",
       "ds4           min  "
      ]
     },
     "execution_count": 17,
     "metadata": {},
     "output_type": "execute_result"
    }
   ],
   "source": [
    "disney.info()\n",
    "disney.head(4)"
   ]
  },
  {
   "attachments": {},
   "cell_type": "markdown",
   "metadata": {},
   "source": [
    "Por ultimo despues de verificar todo, creamos los csv donde meteremos nuestros datos ya transfomados y listo para la API"
   ]
  },
  {
   "cell_type": "code",
   "execution_count": 20,
   "metadata": {},
   "outputs": [],
   "source": [
    "netflix.to_csv(\"PLATAFORMS/netflix.csv\")\n",
    "amazon.to_csv(\"PLATAFORMS/amazon.csv\")\n",
    "hulu.to_csv(\"PLATAFORMS/hulu.csv\")\n",
    "disney.to_csv(\"PLATAFORMS/disney.csv\")"
   ]
  }
 ],
 "metadata": {
  "kernelspec": {
   "display_name": "Python 3.11.1 64-bit",
   "language": "python",
   "name": "python3"
  },
  "language_info": {
   "codemirror_mode": {
    "name": "ipython",
    "version": 3
   },
   "file_extension": ".py",
   "mimetype": "text/x-python",
   "name": "python",
   "nbconvert_exporter": "python",
   "pygments_lexer": "ipython3",
   "version": "3.11.1"
  },
  "orig_nbformat": 4,
  "vscode": {
   "interpreter": {
    "hash": "dbe5968ebd87453f76702a7b2e0ce35c6e273bbfb967aa19539436dec240f20d"
   }
  }
 },
 "nbformat": 4,
 "nbformat_minor": 2
}
